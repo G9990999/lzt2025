{
 "cells": [
  {
   "cell_type": "markdown",
   "metadata": {},
   "source": [
    "# Анализ данных фетального монитора и классификация (CatBoost + ONNX)"
   ]
  },
  {
   "cell_type": "code",
   "execution_count": null,
   "metadata": {},
   "outputs": [],
   "source": [
    "import os\n",
    "import pandas as pd\n",
    "import numpy as np\n",
    "from sklearn.model_selection import train_test_split\n",
    "from sklearn.metrics import accuracy_score, confusion_matrix, classification_report\n",
    "from sklearn.preprocessing import StandardScaler\n",
    "from catboost import CatBoostClassifier\n",
    "import seaborn as sns\n",
    "import matplotlib.pyplot as plt\n",
    "import onnxruntime as ort\n",
    "import joblib\n",
    "from IPython.display import Image, display\n",
    "import plotly.express as px\n",
    "import plotly.graph_objects as go\n",
    "from plotly.offline import plot\n",
    "from datetime import datetime"
   ]
  },
  {
   "cell_type": "markdown",
   "metadata": {},
   "source": [
    "## 1. Подготовка папок"
   ]
  },
  {
   "cell_type": "code",
   "execution_count": null,
   "metadata": {},
   "outputs": [],
   "source": [
    "os.makedirs(\"datasets/regular\", exist_ok=True)\n",
    "os.makedirs(\"datasets/suspicious\", exist_ok=True)\n",
    "os.makedirs(\"datasets/hypoxia\", exist_ok=True)\n",
    "os.makedirs(\"charts\", exist_ok=True)\n",
    "os.makedirs(\"reports\", exist_ok=True)"
   ]
  },
  {
   "cell_type": "markdown",
   "metadata": {},
   "source": [
    "## 2. Генерация синтетических данных"
   ]
  },
  {
   "cell_type": "code",
   "execution_count": null,
   "metadata": {},
   "outputs": [],
   "source": [
    "n_regular, n_suspicious, n_hypoxia = 60, 40, 40\n",
    "\n",
    "regular_data = pd.DataFrame({\n",
    "    \"BPM\": np.random.randint(120, 160, size=n_regular),\n",
    "    \"Uterus\": np.random.randint(10, 50, size=n_regular),\n",
    "    \"Target\": [0] * n_regular\n",
    "})\n",
    "regular_data.to_csv(\"datasets/regular/regular_dataset.csv\", index=False)\n",
    "\n",
    "suspicious_data = pd.DataFrame({\n",
    "    \"BPM\": np.random.randint(160, 175, size=n_suspicious),\n",
    "    \"Uterus\": np.random.randint(40, 70, size=n_suspicious),\n",
    "    \"Target\": [1] * n_suspicious\n",
    "})\n",
    "suspicious_data.to_csv(\"datasets/suspicious/suspicious_dataset.csv\", index=False)\n",
    "\n",
    "hypoxia_data = pd.DataFrame({\n",
    "    \"BPM\": np.random.randint(90, 110, size=n_hypoxia),\n",
    "    \"Uterus\": np.random.randint(60, 90, size=n_hypoxia),\n",
    "    \"Target\": [2] * n_hypoxia\n",
    "})\n",
    "hypoxia_data.to_csv(\"datasets/hypoxia/hypoxia_dataset.csv\", index=False)"
   ]
  },
  {
   "cell_type": "markdown",
   "metadata": {},
   "source": [
    "## 3. Объединение и балансировка датасетов"
   ]
  },
  {
   "cell_type": "code",
   "execution_count": null,
   "metadata": {},
   "outputs": [],
   "source": [
    "def build_train_dataset(output_dir=\".\", balance=True, test_size=0.2):\n",
    "    files = [\n",
    "        \"datasets/regular/regular_dataset.csv\",\n",
    "        \"datasets/suspicious/suspicious_dataset.csv\",\n",
    "        \"datasets/hypoxia/hypoxia_dataset.csv\"\n",
    "    ]\n",
    "    dfs = [pd.read_csv(f) for f in files]\n",
    "    full_df = pd.concat(dfs, ignore_index=True)\n",
    "\n",
    "    if balance:\n",
    "        min_count = full_df[\"Target\"].value_counts().min()\n",
    "        full_df = full_df.groupby(\"Target\", group_keys=False).apply(lambda x: x.sample(min_count, random_state=42)).reset_index(drop=True)\n",
    "\n",
    "    train_df, test_df = train_test_split(full_df, test_size=test_size, stratify=full_df[\"Target\"], random_state=42)\n",
    "\n",
    "    train_df.to_csv(os.path.join(output_dir, \"train.csv\"), index=False)\n",
    "    test_df.to_csv(os.path.join(output_dir, \"test.csv\"), index=False)\n",
    "\n",
    "    return train_df, test_df\n",
    "\n",
    "train_df, test_df = build_train_dataset()"
   ]
  },
  {
   "cell_type": "markdown",
   "metadata": {},
   "source": [
    "## 4. Обучение CatBoost и экспорт в ONNX"
   ]
  },
  {
   "cell_type": "code",
   "execution_count": null,
   "metadata": {},
   "outputs": [],
   "source": [
    "def train_and_export(train_df, test_df, onnx_path=\"catboost_model.onnx\", scaler_path=\"scaler.pkl\"):\n",
    "    X_train, y_train = train_df[[\"BPM\", \"Uterus\"]], train_df[\"Target\"]\n",
    "    X_test, y_test = test_df[[\"BPM\", \"Uterus\"]], test_df[\"Target\"]\n",
    "\n",
    "    scaler = StandardScaler()\n",
    "    X_train_scaled = scaler.fit_transform(X_train)\n",
    "    X_test_scaled = scaler.transform(X_test)\n",
    "    joblib.dump(scaler, scaler_path)\n",
    "\n",
    "    model = CatBoostClassifier(iterations=200, depth=4, learning_rate=0.1, loss_function=\"MultiClass\", verbose=0)\n",
    "    model.fit(X_train_scaled, y_train, eval_set=(X_test_scaled, y_test))\n",
    "\n",
    "    y_pred = model.predict(X_test_scaled)\n",
    "    acc = accuracy_score(y_test, y_pred)\n",
    "\n",
    "    cm = confusion_matrix(y_test, y_pred)\n",
    "    plt.figure(figsize=(5,4))\n",
    "    sns.heatmap(cm, annot=True, fmt=\"d\", cmap=\"Blues\")\n",
    "    plt.title(\"Confusion Matrix\")\n",
    "    cm_path = \"charts/confusion_matrix.png\"\n",
    "    plt.savefig(cm_path, bbox_inches=\"tight\")\n",
    "    plt.close()\n",
    "\n",
    "    fi = model.get_feature_importance()\n",
    "    plt.figure(figsize=(5,4))\n",
    "    plt.bar([\"BPM\", \"Uterus\"], fi)\n",
    "    plt.title(\"Feature Importance\")\n",
    "    fi_path = \"charts/feature_importance.png\"\n",
    "    plt.savefig(fi_path, bbox_inches=\"tight\")\n",
    "    plt.close()\n",
    "\n",
    "    model.save_model(onnx_path, format=\"onnx\")\n",
    "\n",
    "    report = classification_report(y_test, y_pred, target_names=[\"Regular\", \"Suspicious\", \"Hypoxia\"], output_dict=True)\n",
    "    report_df = pd.DataFrame(report).transpose()\n",
    "\n",
    "    timestamp = datetime.now().strftime(\"%Y%m%d_%H%M%S\")\n",
    "    report_csv = f\"reports/classification_report_{timestamp}.csv\"\n",
    "    report_df.to_csv(report_csv)\n",
    "\n",
    "    class_means = train_df.groupby(\"Target\")[\"BPM\",\"Uterus\"].mean()\n",
    "    means_csv = f\"reports/class_means_{timestamp}.csv\"\n",
    "    class_means.to_csv(means_csv)\n",
    "\n",
    "    plt.figure()\n",
    "    class_means[\"BPM\"].plot(kind=\"bar\", color=\"skyblue\", title=\"Mean BPM by Class\")\n",
    "    bpm_path = \"charts/class_means_bpm.png\"\n",
    "    plt.savefig(bpm_path, bbox_inches=\"tight\")\n",
    "    plt.close()\n",
    "\n",
    "    plt.figure()\n",
    "    class_means[\"Uterus\"].plot(kind=\"bar\", color=\"salmon\", title=\"Mean Uterus by Class\")\n",
    "    uterus_path = \"charts/class_means_uterus.png\"\n",
    "    plt.savefig(uterus_path, bbox_inches=\"tight\")\n",
    "    plt.close()\n",
    "\n",
    "    return acc, cm_path, fi_path, report_df, class_means, bpm_path, uterus_path, onnx_path, scaler_path\n",
    "\n",
    "acc, cm_path, fi_path, report_df, class_means, bpm_path, uterus_path, onnx_path, scaler_path = train_and_export(train_df, test_df)"
   ]
  },
  {
   "cell_type": "markdown",
   "metadata": {},
   "source": [
    "## 5. Инференс через onnxruntime + HTML-отчёт"
   ]
  },
  {
   "cell_type": "code",
   "execution_count": null,
   "metadata": {},
   "outputs": [],
   "source": [
    "def predict_with_onnx(onnx_path, scaler_path, samples):\n",
    "    scaler = joblib.load(scaler_path)\n",
    "    samples_scaled = scaler.transform(samples)\n",
    "    sess = ort.InferenceSession(onnx_path)\n",
    "    input_name = sess.get_inputs()[0].name\n",
    "    preds = sess.run(None, {input_name: samples_scaled.astype(np.float32)})[0]\n",
    "    return np.argmax(preds, axis=1), preds"
   ]
  },
  {
   "cell_type": "code",
   "execution_count": null,
   "metadata": {},
   "outputs": [],
   "source": [
    "def predict_live_data(onnx_path, scaler_path, acc, cm_path, fi_path, report_df, class_means, bpm_path, uterus_path,\n",
    "                      live_file=\"live_data.csv\"):\n",
    "    class_map = {0: \"Regular\", 1: \"Suspicious\", 2: \"Hypoxia\"}\n",
    "\n",
    "    if not os.path.exists(live_file):\n",
    "        pd.DataFrame({\"BPM\": [145,170,100], \"Uterus\": [30,55,80]}).to_csv(live_file, index=False)\n",
    "\n",
    "    live_df = pd.read_csv(live_file)\n",
    "    class_ids, probs = predict_with_onnx(onnx_path, scaler_path, live_df.values)\n",
    "    live_df[\"Predicted\"] = [class_map[c] for c in class_ids]\n",
    "    live_df[[\"P_Regular\",\"P_Suspicious\",\"P_Hypoxia\"]] = probs\n",
    "\n",
    "    timestamp = datetime.now().strftime(\"%Y%m%d_%H%M%S\")\n",
    "    report_path = f\"reports/report_{timestamp}.html\"\n",
    "\n",
    "    with open(report_path, \"w\", encoding=\"utf-8\") as f:\n",
    "        f.write(\"<html><head><meta charset='utf-8'><title>Fetal Monitor Report</title></head><body>\")\n",
    "        f.write(\"<h1>Отчёт по классификации</h1>\")\n",
    "        f.write(f\"<p><b>Accuracy:</b> {acc:.3f}</p>\")\n",
    "        f.write(\"<h2>Classification Report</h2>\")\n",
    "        f.write(report_df.to_html())\n",
    "        f.write(\"<h2>Confusion Matrix</h2>\")\n",
    "        f.write(f\"<img src='../{cm_path}' width='400'>\")\n",
    "        f.write(\"<h2>Feature Importance</h2>\")\n",
    "        f.write(f\"<img src='../{fi_path}' width='400'>\")\n",
    "        f.write(\"<h2>Средние значения по классам</h2>\")\n",
    "        f.write(class_means.to_html())\n",
    "        f.write(f\"<img src='../{bpm_path}' width='400'>\")\n",
    "        f.write(f\"<img src='../{uterus_path}' width='400'>\")\n",
    "        f.write(\"<h2>Таблица предсказаний</h2>\")\n",
    "        f.write(live_df.to_html(index=False))\n",
    "        f.write(\"</body></html>\")\n",
    "\n",
    "    print(f\"HTML-отчёт: {report_path}\")\n",
    "    return live_df\n",
    "\n",
    "live_results = predict_live_data(onnx_path, scaler_path, acc, cm_path, fi_path, report_df, class_means, bpm_path, uterus_path)\nlive_results"
   ]
  }
 ],
 "metadata": {
  "kernelspec": {
   "display_name": "Python 3",
   "language": "python",
   "name": "python3"
  },
  "language_info": {
   "name": "python",
   "version": "3.10"
  }
 },
 "nbformat": 4,
 "nbformat_minor": 5
}
