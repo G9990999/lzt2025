{
  "cells": [
    {
      "cell_type": "markdown",
      "metadata": {},
      "source": [
        "# Анализ данных фетального монитора и классификация (CatBoost + ONNX)"
      ]
    },
    {
      "cell_type": "code",
      "execution_count": 1,
      "metadata": {},
      "outputs": [],
      "source": [
        "import os\n",
        "import pandas as pd\n",
        "import numpy as np\n",
        "from sklearn.model_selection import train_test_split\n",
        "from sklearn.metrics import accuracy_score, confusion_matrix, classification_report\n",
        "from sklearn.preprocessing import StandardScaler\n",
        "from catboost import CatBoostClassifier\n",
        "import seaborn as sns\n",
        "import matplotlib.pyplot as plt\n",
        "import onnxruntime as ort\n",
        "import joblib\n",
        "from IPython.display import Image, display\n",
        "import plotly.express as px\n",
        "import plotly.graph_objects as go\n",
        "from plotly.offline import plot\n",
        "from datetime import datetime"
      ]
    },
    {
      "cell_type": "markdown",
      "metadata": {},
      "source": [
        "## 1. Подготовка папок"
      ]
    },
    {
      "cell_type": "code",
      "execution_count": 2,
      "metadata": {},
      "outputs": [],
      "source": [
        "os.makedirs(\"datasets/regular\", exist_ok=True)\n",
        "os.makedirs(\"datasets/suspicious\", exist_ok=True)\n",
        "os.makedirs(\"datasets/hypoxia\", exist_ok=True)\n",
        "os.makedirs(\"charts\", exist_ok=True)\n",
        "os.makedirs(\"reports\", exist_ok=True)"
      ]
    },
    {
      "cell_type": "markdown",
      "metadata": {},
      "source": [
        "## 2. Генерация синтетических данных"
      ]
    },
    {
      "cell_type": "code",
      "execution_count": 3,
      "metadata": {},
      "outputs": [],
      "source": [
        "n_regular, n_suspicious, n_hypoxia = 60, 40, 40\n",
        "\n",
        "regular_data = pd.DataFrame({\n",
        "    \"BPM\": np.random.randint(120, 160, size=n_regular),\n",
        "    \"Uterus\": np.random.randint(10, 50, size=n_regular),\n",
        "    \"Target\": [0] * n_regular\n",
        "})\n",
        "regular_data.to_csv(\"datasets/regular/regular_dataset.csv\", index=False)\n",
        "\n",
        "suspicious_data = pd.DataFrame({\n",
        "    \"BPM\": np.random.randint(160, 175, size=n_suspicious),\n",
        "    \"Uterus\": np.random.randint(40, 70, size=n_suspicious),\n",
        "    \"Target\": [1] * n_suspicious\n",
        "})\n",
        "suspicious_data.to_csv(\"datasets/suspicious/suspicious_dataset.csv\", index=False)\n",
        "\n",
        "hypoxia_data = pd.DataFrame({\n",
        "    \"BPM\": np.random.randint(90, 110, size=n_hypoxia),\n",
        "    \"Uterus\": np.random.randint(60, 90, size=n_hypoxia),\n",
        "    \"Target\": [2] * n_hypoxia\n",
        "})\n",
        "hypoxia_data.to_csv(\"datasets/hypoxia/hypoxia_dataset.csv\", index=False)"
      ]
    },
    {
      "cell_type": "markdown",
      "metadata": {},
      "source": [
        "## 3. Объединение и балансировка датасетов"
      ]
    },
    {
      "cell_type": "code",
      "execution_count": 4,
      "metadata": {},
      "outputs": [
        {
          "name": "stderr",
          "output_type": "stream",
          "text": [
            "/tmp/ipykernel_11959/499007287.py:12: FutureWarning:\n",
            "\n",
            "DataFrameGroupBy.apply operated on the grouping columns. This behavior is deprecated, and in a future version of pandas the grouping columns will be excluded from the operation. Either pass `include_groups=False` to exclude the groupings or explicitly select the grouping columns after groupby to silence this warning.\n",
            "\n"
          ]
        }
      ],
      "source": [
        "def build_train_dataset(output_dir=\".\", balance=True, test_size=0.2):\n",
        "    files = [\n",
        "        \"datasets/regular/regular_dataset.csv\",\n",
        "        \"datasets/suspicious/suspicious_dataset.csv\",\n",
        "        \"datasets/hypoxia/hypoxia_dataset.csv\"\n",
        "    ]\n",
        "    dfs = [pd.read_csv(f) for f in files]\n",
        "    full_df = pd.concat(dfs, ignore_index=True)\n",
        "\n",
        "    if balance:\n",
        "        min_count = full_df[\"Target\"].value_counts().min()\n",
        "        full_df = full_df.groupby(\"Target\", group_keys=False).apply(lambda x: x.sample(min_count, random_state=42)).reset_index(drop=True)\n",
        "\n",
        "    train_df, test_df = train_test_split(full_df, test_size=test_size, stratify=full_df[\"Target\"], random_state=42)\n",
        "\n",
        "    train_df.to_csv(os.path.join(output_dir, \"train.csv\"), index=False)\n",
        "    test_df.to_csv(os.path.join(output_dir, \"test.csv\"), index=False)\n",
        "\n",
        "    return train_df, test_df\n",
        "\n",
        "train_df, test_df = build_train_dataset()"
      ]
    },
    {
      "cell_type": "markdown",
      "metadata": {},
      "source": [
        "## 4. Обучение CatBoost и экспорт в ONNX"
      ]
    },
    {
      "cell_type": "code",
      "execution_count": null,
      "metadata": {},
      "outputs": [
        {
          "name": "stdout",
          "output_type": "stream",
          "text": [
            "     BPM  Uterus\n",
            "8    157      48\n",
            "6    151      49\n",
            "101  109      65\n",
            "118   92      67\n",
            "115   92      81\n",
            "..   ...     ...\n",
            "72   162      44\n",
            "106   93      82\n",
            "59   172      63\n",
            "1    136      19\n",
            "70   165      62\n",
            "\n",
            "[96 rows x 2 columns]\n"
          ]
        },
        {
          "name": "stderr",
          "output_type": "stream",
          "text": [
            "/home/robert/Documents/.venv/lib/python3.12/site-packages/sklearn/utils/validation.py:2742: UserWarning:\n",
            "\n",
            "X has feature names, but StandardScaler was fitted without feature names\n",
            "\n"
          ]
        }
      ],
      "source": [
        "def train_and_export(train_df, test_df, onnx_path=\"catboost_model.onnx\", scaler_path=\"scaler.pkl\"):\n",
        "    X_train, y_train = train_df[[\"BPM\", \"Uterus\"]], train_df[\"Target\"]\n",
        "    X_test, y_test = test_df[[\"BPM\", \"Uterus\"]], test_df[\"Target\"]\n",
        "\n",
        "    scaler = StandardScaler()\n",
        "    X_train_scaled = scaler.fit_transform(X_train.values)\n",
        "    X_test_scaled = scaler.transform(X_test)\n",
        "    joblib.dump(scaler, scaler_path)\n",
        "\n",
        "    model = CatBoostClassifier(iterations=200, depth=4, learning_rate=0.1, loss_function=\"MultiClass\", verbose=0)\n",
        "    model.fit(X_train_scaled, y_train, eval_set=(X_test_scaled, y_test))\n",
        "\n",
        "    y_pred = model.predict(X_test_scaled)\n",
        "    acc = accuracy_score(y_test, y_pred)\n",
        "\n",
        "    cm = confusion_matrix(y_test, y_pred)\n",
        "    plt.figure(figsize=(5,4))\n",
        "    sns.heatmap(cm, annot=True, fmt=\"d\", cmap=\"Blues\")\n",
        "    plt.title(\"Confusion Matrix\")\n",
        "    cm_path = \"charts/confusion_matrix.png\"\n",
        "    plt.savefig(cm_path, bbox_inches=\"tight\")\n",
        "    plt.close()\n",
        "\n",
        "    fi = model.get_feature_importance()\n",
        "    plt.figure(figsize=(5,4))\n",
        "    plt.bar([\"BPM\", \"Uterus\"], fi)\n",
        "    plt.title(\"Feature Importance\")\n",
        "    fi_path = \"charts/feature_importance.png\"\n",
        "    plt.savefig(fi_path, bbox_inches=\"tight\")\n",
        "    plt.close()\n",
        "\n",
        "    model.save_model(onnx_path, format=\"onnx\")\n",
        "\n",
        "    report = classification_report(y_test, y_pred, target_names=[\"Regular\", \"Suspicious\", \"Hypoxia\"], output_dict=True)\n",
        "    report_df = pd.DataFrame(report).transpose()\n",
        "\n",
        "    timestamp = datetime.now().strftime(\"%Y%m%d_%H%M%S\")\n",
        "    report_csv = f\"reports/classification_report_{timestamp}.csv\"\n",
        "    report_df.to_csv(report_csv)\n",
        "\n",
        "    class_means = train_df.groupby(\"Target\")[[\"BPM\",\"Uterus\"]].mean()\n",
        "    means_csv = f\"reports/class_means_{timestamp}.csv\"\n",
        "    class_means.to_csv(means_csv)\n",
        "\n",
        "    plt.figure()\n",
        "    class_means[\"BPM\"].plot(kind=\"bar\", color=\"skyblue\", title=\"Mean BPM by Class\")\n",
        "    bpm_path = \"charts/class_means_bpm.png\"\n",
        "    plt.savefig(bpm_path, bbox_inches=\"tight\")\n",
        "    plt.close()\n",
        "\n",
        "    plt.figure()\n",
        "    class_means[\"Uterus\"].plot(kind=\"bar\", color=\"salmon\", title=\"Mean Uterus by Class\")\n",
        "    uterus_path = \"charts/class_means_uterus.png\"\n",
        "    plt.savefig(uterus_path, bbox_inches=\"tight\")\n",
        "    plt.close()\n",
        "\n",
        "    return acc, cm_path, fi_path, report_df, class_means, bpm_path, uterus_path, onnx_path, scaler_path\n",
        "\n",
        "acc, cm_path, fi_path, report_df, class_means, bpm_path, uterus_path, onnx_path, scaler_path = train_and_export(train_df, test_df)"
      ]
    },
    {
      "cell_type": "markdown",
      "metadata": {},
      "source": [
        "## 5. Инференс через onnxruntime + HTML-отчёт"
      ]
    },
    {
      "cell_type": "code",
      "execution_count": 30,
      "metadata": {},
      "outputs": [],
      "source": [
        "def predict_with_onnx(onnx_path, scaler_path, samples):\n",
        "    scaler = joblib.load(scaler_path)\n",
        "    samples_scaled = scaler.transform(samples)\n",
        "    sess = ort.InferenceSession(onnx_path)\n",
        "    input_name = sess.get_inputs()[0].name\n",
        "    preds = sess.run(None, {input_name: samples_scaled.astype(np.float32)})[1]\n",
        "    preds = pd.DataFrame(preds)\n",
        "    return np.argmax(preds, axis=1), preds"
      ]
    },
    {
      "cell_type": "code",
      "execution_count": 31,
      "metadata": {},
      "outputs": [
        {
          "name": "stdout",
          "output_type": "stream",
          "text": [
            "HTML-отчёт: reports/report_20251001_221136.html\n"
          ]
        },
        {
          "data": {
            "text/html": [
              "<div>\n",
              "<style scoped>\n",
              "    .dataframe tbody tr th:only-of-type {\n",
              "        vertical-align: middle;\n",
              "    }\n",
              "\n",
              "    .dataframe tbody tr th {\n",
              "        vertical-align: top;\n",
              "    }\n",
              "\n",
              "    .dataframe thead th {\n",
              "        text-align: right;\n",
              "    }\n",
              "</style>\n",
              "<table border=\"1\" class=\"dataframe\">\n",
              "  <thead>\n",
              "    <tr style=\"text-align: right;\">\n",
              "      <th></th>\n",
              "      <th>BPM</th>\n",
              "      <th>Uterus</th>\n",
              "      <th>Predicted</th>\n",
              "      <th>P_Regular</th>\n",
              "      <th>P_Suspicious</th>\n",
              "      <th>P_Hypoxia</th>\n",
              "    </tr>\n",
              "  </thead>\n",
              "  <tbody>\n",
              "    <tr>\n",
              "      <th>0</th>\n",
              "      <td>145</td>\n",
              "      <td>30</td>\n",
              "      <td>Regular</td>\n",
              "      <td>0.991724</td>\n",
              "      <td>0.003969</td>\n",
              "      <td>0.004307</td>\n",
              "    </tr>\n",
              "    <tr>\n",
              "      <th>1</th>\n",
              "      <td>170</td>\n",
              "      <td>55</td>\n",
              "      <td>Suspicious</td>\n",
              "      <td>0.006779</td>\n",
              "      <td>0.987531</td>\n",
              "      <td>0.005690</td>\n",
              "    </tr>\n",
              "    <tr>\n",
              "      <th>2</th>\n",
              "      <td>100</td>\n",
              "      <td>80</td>\n",
              "      <td>Hypoxia</td>\n",
              "      <td>0.004975</td>\n",
              "      <td>0.004824</td>\n",
              "      <td>0.990200</td>\n",
              "    </tr>\n",
              "  </tbody>\n",
              "</table>\n",
              "</div>"
            ],
            "text/plain": [
              "   BPM  Uterus   Predicted  P_Regular  P_Suspicious  P_Hypoxia\n",
              "0  145      30     Regular   0.991724      0.003969   0.004307\n",
              "1  170      55  Suspicious   0.006779      0.987531   0.005690\n",
              "2  100      80     Hypoxia   0.004975      0.004824   0.990200"
            ]
          },
          "execution_count": 31,
          "metadata": {},
          "output_type": "execute_result"
        }
      ],
      "source": [
        "def predict_live_data(onnx_path, scaler_path, acc, cm_path, fi_path, report_df, class_means, bpm_path, uterus_path,\n",
        "                      live_file=\"live_data.csv\"):\n",
        "    class_map = {0: \"Regular\", 1: \"Suspicious\", 2: \"Hypoxia\"}\n",
        "\n",
        "    if not os.path.exists(live_file):\n",
        "        pd.DataFrame({\"BPM\": [145,170,100], \"Uterus\": [30,55,80]}).to_csv(live_file, index=False)\n",
        "\n",
        "    live_df = pd.read_csv(live_file)\n",
        "    class_ids, probs = predict_with_onnx(onnx_path, scaler_path, live_df.values)\n",
        "    live_df[\"Predicted\"] = [class_map[c] for c in class_ids]\n",
        "    live_df[[\"P_Regular\",\"P_Suspicious\",\"P_Hypoxia\"]] = probs\n",
        "\n",
        "    timestamp = datetime.now().strftime(\"%Y%m%d_%H%M%S\")\n",
        "    report_path = f\"reports/report_{timestamp}.html\"\n",
        "\n",
        "    with open(report_path, \"w\", encoding=\"utf-8\") as f:\n",
        "        f.write(\"<html><head><meta charset='utf-8'><title>Fetal Monitor Report</title></head><body>\")\n",
        "        f.write(\"<h1>Отчёт по классификации</h1>\")\n",
        "        f.write(f\"<p><b>Accuracy:</b> {acc:.3f}</p>\")\n",
        "        f.write(\"<h2>Classification Report</h2>\")\n",
        "        f.write(report_df.to_html())\n",
        "        f.write(\"<h2>Confusion Matrix</h2>\")\n",
        "        f.write(f\"<img src='../{cm_path}' width='400'>\")\n",
        "        f.write(\"<h2>Feature Importance</h2>\")\n",
        "        f.write(f\"<img src='../{fi_path}' width='400'>\")\n",
        "        f.write(\"<h2>Средние значения по классам</h2>\")\n",
        "        f.write(class_means.to_html())\n",
        "        f.write(f\"<img src='../{bpm_path}' width='400'>\")\n",
        "        f.write(f\"<img src='../{uterus_path}' width='400'>\")\n",
        "        f.write(\"<h2>Таблица предсказаний</h2>\")\n",
        "        f.write(live_df.to_html(index=False))\n",
        "        f.write(\"</body></html>\")\n",
        "\n",
        "    print(f\"HTML-отчёт: {report_path}\")\n",
        "    return live_df\n",
        "\n",
        "live_results = predict_live_data(onnx_path, scaler_path, acc, cm_path, fi_path, report_df, class_means, bpm_path, uterus_path)\n",
        "live_results"
      ]
    }
  ],
  "metadata": {
    "kernelspec": {
      "display_name": ".venv",
      "language": "python",
      "name": "python3"
    },
    "language_info": {
      "codemirror_mode": {
        "name": "ipython",
        "version": 3
      },
      "file_extension": ".py",
      "mimetype": "text/x-python",
      "name": "python",
      "nbconvert_exporter": "python",
      "pygments_lexer": "ipython3",
      "version": "3.12.3"
    }
  },
  "nbformat": 4,
  "nbformat_minor": 5
}
